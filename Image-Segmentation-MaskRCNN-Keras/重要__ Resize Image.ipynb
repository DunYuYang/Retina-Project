{
 "cells": [
  {
   "cell_type": "code",
   "execution_count": 2,
   "metadata": {},
   "outputs": [
    {
     "name": "stdout",
     "output_type": "stream",
     "text": [
      "路徑： C:\\Users\\user\\Desktop\\train_1\n",
      "資料夾： []\n",
      "檔案： ['CNV_1.jpeg', 'CNV_2.jpeg', 'CNV_3.jpeg', 'CNV_7.jpeg', 'DME_1.jpeg', 'DME_2.jpeg', 'DME_3.jpeg', 'DME_8.jpeg', 'DRUSEN_1.jpeg', 'DRUSEN_2.jpeg', 'DRUSEN_3.jpeg', 'DRUSEN_7.jpeg']\n",
      "\n",
      "\n"
     ]
    }
   ],
   "source": [
    "# -*- coding: utf-8 -*-\n",
    "\n",
    "from os import walk\n",
    "import os\n",
    "import PIL.Image as Image\n",
    "\n",
    "def img_resize(imgpath):\n",
    "    im = Image.open(imgpath)\n",
    "#     width = 608\n",
    "#     ratio = float(width) / im.size[0]\n",
    "#     height = int(im.size[1] * ratio)\n",
    "    width = 1024\n",
    "    height = 1024\n",
    "    nim = im.resize((width, height), Image.BILINEAR)\n",
    "    nim = nim.convert('RGB')\n",
    "    nim.save(imgpath)\n",
    "\n",
    "# 指定要列出所有檔案的目錄\n",
    "path = r'C:\\Users\\user\\Desktop\\train_1'\n",
    "\n",
    "# 1.遞迴列出所有子目錄與檔案\n",
    "for root, dirs, files in walk(path):\n",
    "  print(\"路徑：\", root)\n",
    "  print(\"資料夾：\", dirs)\n",
    "  print(\"檔案：\", files)\n",
    "  print(\"\\n\")\n",
    "\n",
    "# 2.遞迴列出所有檔案的絕對路徑\n",
    "for root, dirs, files in walk(path):\n",
    "  for f in files:\n",
    "    fullpath = os.path.join(root, f)\n",
    "    img_resize(fullpath)"
   ]
  },
  {
   "cell_type": "code",
   "execution_count": null,
   "metadata": {},
   "outputs": [],
   "source": []
  }
 ],
 "metadata": {
  "kernelspec": {
   "display_name": "Python 3",
   "language": "python",
   "name": "python3"
  },
  "language_info": {
   "codemirror_mode": {
    "name": "ipython",
    "version": 3
   },
   "file_extension": ".py",
   "mimetype": "text/x-python",
   "name": "python",
   "nbconvert_exporter": "python",
   "pygments_lexer": "ipython3",
   "version": "3.7.3"
  }
 },
 "nbformat": 4,
 "nbformat_minor": 2
}
